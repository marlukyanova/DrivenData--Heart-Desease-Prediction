{
 "cells": [
  {
   "cell_type": "code",
   "execution_count": 1,
   "metadata": {},
   "outputs": [],
   "source": [
    "import pandas as pd\n",
    "import numpy as np\n",
    "import matplotlib.pyplot as plt\n",
    "import seaborn as sns\n",
    "import math\n",
    "\n",
    "from sklearn.model_selection import train_test_split\n",
    "from sklearn.metrics import log_loss\n",
    "from sklearn.tree import DecisionTreeClassifier, export_graphviz\n",
    "from sklearn.linear_model import LogisticRegression\n",
    "import graphviz\n",
    "\n",
    "%matplotlib inline\n",
    "\n",
    "sns.set()"
   ]
  },
  {
   "cell_type": "markdown",
   "metadata": {},
   "source": [
    "Import train dataset"
   ]
  },
  {
   "cell_type": "code",
   "execution_count": 2,
   "metadata": {},
   "outputs": [],
   "source": [
    "def prepare_dataset(data):\n",
    "    \"\"\"\n",
    "    function for preparing dataset to modeling: converts 'thal' into categories\n",
    "    \"\"\"\n",
    "    data['thal'] = data['thal'].astype('category')\n",
    "    data['thal'] = data['thal'].cat.codes\n",
    "    return data"
   ]
  },
  {
   "cell_type": "code",
   "execution_count": 3,
   "metadata": {},
   "outputs": [
    {
     "data": {
      "text/html": [
       "<div>\n",
       "<style scoped>\n",
       "    .dataframe tbody tr th:only-of-type {\n",
       "        vertical-align: middle;\n",
       "    }\n",
       "\n",
       "    .dataframe tbody tr th {\n",
       "        vertical-align: top;\n",
       "    }\n",
       "\n",
       "    .dataframe thead th {\n",
       "        text-align: right;\n",
       "    }\n",
       "</style>\n",
       "<table border=\"1\" class=\"dataframe\">\n",
       "  <thead>\n",
       "    <tr style=\"text-align: right;\">\n",
       "      <th></th>\n",
       "      <th>slope_of_peak_exercise_st_segment</th>\n",
       "      <th>thal</th>\n",
       "      <th>resting_blood_pressure</th>\n",
       "      <th>chest_pain_type</th>\n",
       "      <th>num_major_vessels</th>\n",
       "      <th>fasting_blood_sugar_gt_120_mg_per_dl</th>\n",
       "      <th>resting_ekg_results</th>\n",
       "      <th>serum_cholesterol_mg_per_dl</th>\n",
       "      <th>oldpeak_eq_st_depression</th>\n",
       "      <th>sex</th>\n",
       "      <th>age</th>\n",
       "      <th>max_heart_rate_achieved</th>\n",
       "      <th>exercise_induced_angina</th>\n",
       "    </tr>\n",
       "    <tr>\n",
       "      <th>patient_id</th>\n",
       "      <th></th>\n",
       "      <th></th>\n",
       "      <th></th>\n",
       "      <th></th>\n",
       "      <th></th>\n",
       "      <th></th>\n",
       "      <th></th>\n",
       "      <th></th>\n",
       "      <th></th>\n",
       "      <th></th>\n",
       "      <th></th>\n",
       "      <th></th>\n",
       "      <th></th>\n",
       "    </tr>\n",
       "  </thead>\n",
       "  <tbody>\n",
       "    <tr>\n",
       "      <th>0z64un</th>\n",
       "      <td>1</td>\n",
       "      <td>1</td>\n",
       "      <td>128</td>\n",
       "      <td>2</td>\n",
       "      <td>0</td>\n",
       "      <td>0</td>\n",
       "      <td>2</td>\n",
       "      <td>308</td>\n",
       "      <td>0.0</td>\n",
       "      <td>1</td>\n",
       "      <td>45</td>\n",
       "      <td>170</td>\n",
       "      <td>0</td>\n",
       "    </tr>\n",
       "    <tr>\n",
       "      <th>ryoo3j</th>\n",
       "      <td>2</td>\n",
       "      <td>1</td>\n",
       "      <td>110</td>\n",
       "      <td>3</td>\n",
       "      <td>0</td>\n",
       "      <td>0</td>\n",
       "      <td>0</td>\n",
       "      <td>214</td>\n",
       "      <td>1.6</td>\n",
       "      <td>0</td>\n",
       "      <td>54</td>\n",
       "      <td>158</td>\n",
       "      <td>0</td>\n",
       "    </tr>\n",
       "    <tr>\n",
       "      <th>yt1s1x</th>\n",
       "      <td>1</td>\n",
       "      <td>1</td>\n",
       "      <td>125</td>\n",
       "      <td>4</td>\n",
       "      <td>3</td>\n",
       "      <td>0</td>\n",
       "      <td>2</td>\n",
       "      <td>304</td>\n",
       "      <td>0.0</td>\n",
       "      <td>1</td>\n",
       "      <td>77</td>\n",
       "      <td>162</td>\n",
       "      <td>1</td>\n",
       "    </tr>\n",
       "    <tr>\n",
       "      <th>l2xjde</th>\n",
       "      <td>1</td>\n",
       "      <td>2</td>\n",
       "      <td>152</td>\n",
       "      <td>4</td>\n",
       "      <td>0</td>\n",
       "      <td>0</td>\n",
       "      <td>0</td>\n",
       "      <td>223</td>\n",
       "      <td>0.0</td>\n",
       "      <td>1</td>\n",
       "      <td>40</td>\n",
       "      <td>181</td>\n",
       "      <td>0</td>\n",
       "    </tr>\n",
       "    <tr>\n",
       "      <th>oyt4ek</th>\n",
       "      <td>3</td>\n",
       "      <td>2</td>\n",
       "      <td>178</td>\n",
       "      <td>1</td>\n",
       "      <td>0</td>\n",
       "      <td>0</td>\n",
       "      <td>2</td>\n",
       "      <td>270</td>\n",
       "      <td>4.2</td>\n",
       "      <td>1</td>\n",
       "      <td>59</td>\n",
       "      <td>145</td>\n",
       "      <td>0</td>\n",
       "    </tr>\n",
       "  </tbody>\n",
       "</table>\n",
       "</div>"
      ],
      "text/plain": [
       "            slope_of_peak_exercise_st_segment  thal  resting_blood_pressure  \\\n",
       "patient_id                                                                    \n",
       "0z64un                                      1     1                     128   \n",
       "ryoo3j                                      2     1                     110   \n",
       "yt1s1x                                      1     1                     125   \n",
       "l2xjde                                      1     2                     152   \n",
       "oyt4ek                                      3     2                     178   \n",
       "\n",
       "            chest_pain_type  num_major_vessels  \\\n",
       "patient_id                                       \n",
       "0z64un                    2                  0   \n",
       "ryoo3j                    3                  0   \n",
       "yt1s1x                    4                  3   \n",
       "l2xjde                    4                  0   \n",
       "oyt4ek                    1                  0   \n",
       "\n",
       "            fasting_blood_sugar_gt_120_mg_per_dl  resting_ekg_results  \\\n",
       "patient_id                                                              \n",
       "0z64un                                         0                    2   \n",
       "ryoo3j                                         0                    0   \n",
       "yt1s1x                                         0                    2   \n",
       "l2xjde                                         0                    0   \n",
       "oyt4ek                                         0                    2   \n",
       "\n",
       "            serum_cholesterol_mg_per_dl  oldpeak_eq_st_depression  sex  age  \\\n",
       "patient_id                                                                    \n",
       "0z64un                              308                       0.0    1   45   \n",
       "ryoo3j                              214                       1.6    0   54   \n",
       "yt1s1x                              304                       0.0    1   77   \n",
       "l2xjde                              223                       0.0    1   40   \n",
       "oyt4ek                              270                       4.2    1   59   \n",
       "\n",
       "            max_heart_rate_achieved  exercise_induced_angina  \n",
       "patient_id                                                    \n",
       "0z64un                          170                        0  \n",
       "ryoo3j                          158                        0  \n",
       "yt1s1x                          162                        1  \n",
       "l2xjde                          181                        0  \n",
       "oyt4ek                          145                        0  "
      ]
     },
     "execution_count": 3,
     "metadata": {},
     "output_type": "execute_result"
    }
   ],
   "source": [
    "#import train values\n",
    "values = pd.read_csv(\"train_values.csv\", index_col=0)\n",
    "prepare_dataset(values)\n",
    "values.head()"
   ]
  },
  {
   "cell_type": "code",
   "execution_count": 4,
   "metadata": {},
   "outputs": [
    {
     "data": {
      "text/html": [
       "<div>\n",
       "<style scoped>\n",
       "    .dataframe tbody tr th:only-of-type {\n",
       "        vertical-align: middle;\n",
       "    }\n",
       "\n",
       "    .dataframe tbody tr th {\n",
       "        vertical-align: top;\n",
       "    }\n",
       "\n",
       "    .dataframe thead th {\n",
       "        text-align: right;\n",
       "    }\n",
       "</style>\n",
       "<table border=\"1\" class=\"dataframe\">\n",
       "  <thead>\n",
       "    <tr style=\"text-align: right;\">\n",
       "      <th></th>\n",
       "      <th>heart_disease_present</th>\n",
       "    </tr>\n",
       "    <tr>\n",
       "      <th>patient_id</th>\n",
       "      <th></th>\n",
       "    </tr>\n",
       "  </thead>\n",
       "  <tbody>\n",
       "    <tr>\n",
       "      <th>0z64un</th>\n",
       "      <td>0</td>\n",
       "    </tr>\n",
       "    <tr>\n",
       "      <th>ryoo3j</th>\n",
       "      <td>0</td>\n",
       "    </tr>\n",
       "    <tr>\n",
       "      <th>yt1s1x</th>\n",
       "      <td>1</td>\n",
       "    </tr>\n",
       "    <tr>\n",
       "      <th>l2xjde</th>\n",
       "      <td>1</td>\n",
       "    </tr>\n",
       "    <tr>\n",
       "      <th>oyt4ek</th>\n",
       "      <td>0</td>\n",
       "    </tr>\n",
       "  </tbody>\n",
       "</table>\n",
       "</div>"
      ],
      "text/plain": [
       "            heart_disease_present\n",
       "patient_id                       \n",
       "0z64un                          0\n",
       "ryoo3j                          0\n",
       "yt1s1x                          1\n",
       "l2xjde                          1\n",
       "oyt4ek                          0"
      ]
     },
     "execution_count": 4,
     "metadata": {},
     "output_type": "execute_result"
    }
   ],
   "source": [
    "#import train labels\n",
    "labels = pd.read_csv(\"train_labels.csv\", index_col=0)\n",
    "labels.head()"
   ]
  },
  {
   "cell_type": "code",
   "execution_count": 5,
   "metadata": {},
   "outputs": [
    {
     "data": {
      "text/html": [
       "<div>\n",
       "<style scoped>\n",
       "    .dataframe tbody tr th:only-of-type {\n",
       "        vertical-align: middle;\n",
       "    }\n",
       "\n",
       "    .dataframe tbody tr th {\n",
       "        vertical-align: top;\n",
       "    }\n",
       "\n",
       "    .dataframe thead th {\n",
       "        text-align: right;\n",
       "    }\n",
       "</style>\n",
       "<table border=\"1\" class=\"dataframe\">\n",
       "  <thead>\n",
       "    <tr style=\"text-align: right;\">\n",
       "      <th></th>\n",
       "      <th>slope_of_peak_exercise_st_segment</th>\n",
       "      <th>thal</th>\n",
       "      <th>resting_blood_pressure</th>\n",
       "      <th>chest_pain_type</th>\n",
       "      <th>num_major_vessels</th>\n",
       "      <th>fasting_blood_sugar_gt_120_mg_per_dl</th>\n",
       "      <th>resting_ekg_results</th>\n",
       "      <th>serum_cholesterol_mg_per_dl</th>\n",
       "      <th>oldpeak_eq_st_depression</th>\n",
       "      <th>sex</th>\n",
       "      <th>age</th>\n",
       "      <th>max_heart_rate_achieved</th>\n",
       "      <th>exercise_induced_angina</th>\n",
       "      <th>heart_disease_present</th>\n",
       "    </tr>\n",
       "    <tr>\n",
       "      <th>patient_id</th>\n",
       "      <th></th>\n",
       "      <th></th>\n",
       "      <th></th>\n",
       "      <th></th>\n",
       "      <th></th>\n",
       "      <th></th>\n",
       "      <th></th>\n",
       "      <th></th>\n",
       "      <th></th>\n",
       "      <th></th>\n",
       "      <th></th>\n",
       "      <th></th>\n",
       "      <th></th>\n",
       "      <th></th>\n",
       "    </tr>\n",
       "  </thead>\n",
       "  <tbody>\n",
       "    <tr>\n",
       "      <th>0z64un</th>\n",
       "      <td>1</td>\n",
       "      <td>1</td>\n",
       "      <td>128</td>\n",
       "      <td>2</td>\n",
       "      <td>0</td>\n",
       "      <td>0</td>\n",
       "      <td>2</td>\n",
       "      <td>308</td>\n",
       "      <td>0.0</td>\n",
       "      <td>1</td>\n",
       "      <td>45</td>\n",
       "      <td>170</td>\n",
       "      <td>0</td>\n",
       "      <td>0</td>\n",
       "    </tr>\n",
       "    <tr>\n",
       "      <th>ryoo3j</th>\n",
       "      <td>2</td>\n",
       "      <td>1</td>\n",
       "      <td>110</td>\n",
       "      <td>3</td>\n",
       "      <td>0</td>\n",
       "      <td>0</td>\n",
       "      <td>0</td>\n",
       "      <td>214</td>\n",
       "      <td>1.6</td>\n",
       "      <td>0</td>\n",
       "      <td>54</td>\n",
       "      <td>158</td>\n",
       "      <td>0</td>\n",
       "      <td>0</td>\n",
       "    </tr>\n",
       "    <tr>\n",
       "      <th>yt1s1x</th>\n",
       "      <td>1</td>\n",
       "      <td>1</td>\n",
       "      <td>125</td>\n",
       "      <td>4</td>\n",
       "      <td>3</td>\n",
       "      <td>0</td>\n",
       "      <td>2</td>\n",
       "      <td>304</td>\n",
       "      <td>0.0</td>\n",
       "      <td>1</td>\n",
       "      <td>77</td>\n",
       "      <td>162</td>\n",
       "      <td>1</td>\n",
       "      <td>1</td>\n",
       "    </tr>\n",
       "    <tr>\n",
       "      <th>l2xjde</th>\n",
       "      <td>1</td>\n",
       "      <td>2</td>\n",
       "      <td>152</td>\n",
       "      <td>4</td>\n",
       "      <td>0</td>\n",
       "      <td>0</td>\n",
       "      <td>0</td>\n",
       "      <td>223</td>\n",
       "      <td>0.0</td>\n",
       "      <td>1</td>\n",
       "      <td>40</td>\n",
       "      <td>181</td>\n",
       "      <td>0</td>\n",
       "      <td>1</td>\n",
       "    </tr>\n",
       "    <tr>\n",
       "      <th>oyt4ek</th>\n",
       "      <td>3</td>\n",
       "      <td>2</td>\n",
       "      <td>178</td>\n",
       "      <td>1</td>\n",
       "      <td>0</td>\n",
       "      <td>0</td>\n",
       "      <td>2</td>\n",
       "      <td>270</td>\n",
       "      <td>4.2</td>\n",
       "      <td>1</td>\n",
       "      <td>59</td>\n",
       "      <td>145</td>\n",
       "      <td>0</td>\n",
       "      <td>0</td>\n",
       "    </tr>\n",
       "  </tbody>\n",
       "</table>\n",
       "</div>"
      ],
      "text/plain": [
       "            slope_of_peak_exercise_st_segment  thal  resting_blood_pressure  \\\n",
       "patient_id                                                                    \n",
       "0z64un                                      1     1                     128   \n",
       "ryoo3j                                      2     1                     110   \n",
       "yt1s1x                                      1     1                     125   \n",
       "l2xjde                                      1     2                     152   \n",
       "oyt4ek                                      3     2                     178   \n",
       "\n",
       "            chest_pain_type  num_major_vessels  \\\n",
       "patient_id                                       \n",
       "0z64un                    2                  0   \n",
       "ryoo3j                    3                  0   \n",
       "yt1s1x                    4                  3   \n",
       "l2xjde                    4                  0   \n",
       "oyt4ek                    1                  0   \n",
       "\n",
       "            fasting_blood_sugar_gt_120_mg_per_dl  resting_ekg_results  \\\n",
       "patient_id                                                              \n",
       "0z64un                                         0                    2   \n",
       "ryoo3j                                         0                    0   \n",
       "yt1s1x                                         0                    2   \n",
       "l2xjde                                         0                    0   \n",
       "oyt4ek                                         0                    2   \n",
       "\n",
       "            serum_cholesterol_mg_per_dl  oldpeak_eq_st_depression  sex  age  \\\n",
       "patient_id                                                                    \n",
       "0z64un                              308                       0.0    1   45   \n",
       "ryoo3j                              214                       1.6    0   54   \n",
       "yt1s1x                              304                       0.0    1   77   \n",
       "l2xjde                              223                       0.0    1   40   \n",
       "oyt4ek                              270                       4.2    1   59   \n",
       "\n",
       "            max_heart_rate_achieved  exercise_induced_angina  \\\n",
       "patient_id                                                     \n",
       "0z64un                          170                        0   \n",
       "ryoo3j                          158                        0   \n",
       "yt1s1x                          162                        1   \n",
       "l2xjde                          181                        0   \n",
       "oyt4ek                          145                        0   \n",
       "\n",
       "            heart_disease_present  \n",
       "patient_id                         \n",
       "0z64un                          0  \n",
       "ryoo3j                          0  \n",
       "yt1s1x                          1  \n",
       "l2xjde                          1  \n",
       "oyt4ek                          0  "
      ]
     },
     "execution_count": 5,
     "metadata": {},
     "output_type": "execute_result"
    }
   ],
   "source": [
    "#merge values and labels into one dataset\n",
    "data = values.merge(labels, how='left', left_index=True, right_index=True)\n",
    "data.head()"
   ]
  },
  {
   "cell_type": "code",
   "execution_count": 6,
   "metadata": {},
   "outputs": [
    {
     "name": "stdout",
     "output_type": "stream",
     "text": [
      "<class 'pandas.core.frame.DataFrame'>\n",
      "Index: 180 entries, 0z64un to 2nx10r\n",
      "Data columns (total 14 columns):\n",
      "slope_of_peak_exercise_st_segment       180 non-null int64\n",
      "thal                                    180 non-null object\n",
      "resting_blood_pressure                  180 non-null int64\n",
      "chest_pain_type                         180 non-null int64\n",
      "num_major_vessels                       180 non-null int64\n",
      "fasting_blood_sugar_gt_120_mg_per_dl    180 non-null int64\n",
      "resting_ekg_results                     180 non-null int64\n",
      "serum_cholesterol_mg_per_dl             180 non-null int64\n",
      "oldpeak_eq_st_depression                180 non-null float64\n",
      "sex                                     180 non-null int64\n",
      "age                                     180 non-null int64\n",
      "max_heart_rate_achieved                 180 non-null int64\n",
      "exercise_induced_angina                 180 non-null int64\n",
      "heart_disease_present                   180 non-null int64\n",
      "dtypes: float64(1), int64(12), object(1)\n",
      "memory usage: 26.1+ KB\n"
     ]
    }
   ],
   "source": [
    "data.info()"
   ]
  },
  {
   "cell_type": "code",
   "execution_count": 7,
   "metadata": {},
   "outputs": [
    {
     "data": {
      "text/html": [
       "<div>\n",
       "<style scoped>\n",
       "    .dataframe tbody tr th:only-of-type {\n",
       "        vertical-align: middle;\n",
       "    }\n",
       "\n",
       "    .dataframe tbody tr th {\n",
       "        vertical-align: top;\n",
       "    }\n",
       "\n",
       "    .dataframe thead th {\n",
       "        text-align: right;\n",
       "    }\n",
       "</style>\n",
       "<table border=\"1\" class=\"dataframe\">\n",
       "  <thead>\n",
       "    <tr style=\"text-align: right;\">\n",
       "      <th></th>\n",
       "      <th>slope_of_peak_exercise_st_segment</th>\n",
       "      <th>resting_blood_pressure</th>\n",
       "      <th>chest_pain_type</th>\n",
       "      <th>num_major_vessels</th>\n",
       "      <th>fasting_blood_sugar_gt_120_mg_per_dl</th>\n",
       "      <th>resting_ekg_results</th>\n",
       "      <th>serum_cholesterol_mg_per_dl</th>\n",
       "      <th>oldpeak_eq_st_depression</th>\n",
       "      <th>sex</th>\n",
       "      <th>age</th>\n",
       "      <th>max_heart_rate_achieved</th>\n",
       "      <th>exercise_induced_angina</th>\n",
       "      <th>heart_disease_present</th>\n",
       "    </tr>\n",
       "  </thead>\n",
       "  <tbody>\n",
       "    <tr>\n",
       "      <th>count</th>\n",
       "      <td>180.000000</td>\n",
       "      <td>180.000000</td>\n",
       "      <td>180.000000</td>\n",
       "      <td>180.000000</td>\n",
       "      <td>180.000000</td>\n",
       "      <td>180.000000</td>\n",
       "      <td>180.000000</td>\n",
       "      <td>180.000000</td>\n",
       "      <td>180.000000</td>\n",
       "      <td>180.000000</td>\n",
       "      <td>180.000000</td>\n",
       "      <td>180.000000</td>\n",
       "      <td>180.000000</td>\n",
       "    </tr>\n",
       "    <tr>\n",
       "      <th>mean</th>\n",
       "      <td>1.550000</td>\n",
       "      <td>131.311111</td>\n",
       "      <td>3.155556</td>\n",
       "      <td>0.694444</td>\n",
       "      <td>0.161111</td>\n",
       "      <td>1.050000</td>\n",
       "      <td>249.211111</td>\n",
       "      <td>1.010000</td>\n",
       "      <td>0.688889</td>\n",
       "      <td>54.811111</td>\n",
       "      <td>149.483333</td>\n",
       "      <td>0.316667</td>\n",
       "      <td>0.444444</td>\n",
       "    </tr>\n",
       "    <tr>\n",
       "      <th>std</th>\n",
       "      <td>0.618838</td>\n",
       "      <td>17.010443</td>\n",
       "      <td>0.938454</td>\n",
       "      <td>0.969347</td>\n",
       "      <td>0.368659</td>\n",
       "      <td>0.998742</td>\n",
       "      <td>52.717969</td>\n",
       "      <td>1.121357</td>\n",
       "      <td>0.464239</td>\n",
       "      <td>9.334737</td>\n",
       "      <td>22.063513</td>\n",
       "      <td>0.466474</td>\n",
       "      <td>0.498290</td>\n",
       "    </tr>\n",
       "    <tr>\n",
       "      <th>min</th>\n",
       "      <td>1.000000</td>\n",
       "      <td>94.000000</td>\n",
       "      <td>1.000000</td>\n",
       "      <td>0.000000</td>\n",
       "      <td>0.000000</td>\n",
       "      <td>0.000000</td>\n",
       "      <td>126.000000</td>\n",
       "      <td>0.000000</td>\n",
       "      <td>0.000000</td>\n",
       "      <td>29.000000</td>\n",
       "      <td>96.000000</td>\n",
       "      <td>0.000000</td>\n",
       "      <td>0.000000</td>\n",
       "    </tr>\n",
       "    <tr>\n",
       "      <th>25%</th>\n",
       "      <td>1.000000</td>\n",
       "      <td>120.000000</td>\n",
       "      <td>3.000000</td>\n",
       "      <td>0.000000</td>\n",
       "      <td>0.000000</td>\n",
       "      <td>0.000000</td>\n",
       "      <td>213.750000</td>\n",
       "      <td>0.000000</td>\n",
       "      <td>0.000000</td>\n",
       "      <td>48.000000</td>\n",
       "      <td>132.000000</td>\n",
       "      <td>0.000000</td>\n",
       "      <td>0.000000</td>\n",
       "    </tr>\n",
       "    <tr>\n",
       "      <th>50%</th>\n",
       "      <td>1.000000</td>\n",
       "      <td>130.000000</td>\n",
       "      <td>3.000000</td>\n",
       "      <td>0.000000</td>\n",
       "      <td>0.000000</td>\n",
       "      <td>2.000000</td>\n",
       "      <td>245.500000</td>\n",
       "      <td>0.800000</td>\n",
       "      <td>1.000000</td>\n",
       "      <td>55.000000</td>\n",
       "      <td>152.000000</td>\n",
       "      <td>0.000000</td>\n",
       "      <td>0.000000</td>\n",
       "    </tr>\n",
       "    <tr>\n",
       "      <th>75%</th>\n",
       "      <td>2.000000</td>\n",
       "      <td>140.000000</td>\n",
       "      <td>4.000000</td>\n",
       "      <td>1.000000</td>\n",
       "      <td>0.000000</td>\n",
       "      <td>2.000000</td>\n",
       "      <td>281.250000</td>\n",
       "      <td>1.600000</td>\n",
       "      <td>1.000000</td>\n",
       "      <td>62.000000</td>\n",
       "      <td>166.250000</td>\n",
       "      <td>1.000000</td>\n",
       "      <td>1.000000</td>\n",
       "    </tr>\n",
       "    <tr>\n",
       "      <th>max</th>\n",
       "      <td>3.000000</td>\n",
       "      <td>180.000000</td>\n",
       "      <td>4.000000</td>\n",
       "      <td>3.000000</td>\n",
       "      <td>1.000000</td>\n",
       "      <td>2.000000</td>\n",
       "      <td>564.000000</td>\n",
       "      <td>6.200000</td>\n",
       "      <td>1.000000</td>\n",
       "      <td>77.000000</td>\n",
       "      <td>202.000000</td>\n",
       "      <td>1.000000</td>\n",
       "      <td>1.000000</td>\n",
       "    </tr>\n",
       "  </tbody>\n",
       "</table>\n",
       "</div>"
      ],
      "text/plain": [
       "       slope_of_peak_exercise_st_segment  resting_blood_pressure  \\\n",
       "count                         180.000000              180.000000   \n",
       "mean                            1.550000              131.311111   \n",
       "std                             0.618838               17.010443   \n",
       "min                             1.000000               94.000000   \n",
       "25%                             1.000000              120.000000   \n",
       "50%                             1.000000              130.000000   \n",
       "75%                             2.000000              140.000000   \n",
       "max                             3.000000              180.000000   \n",
       "\n",
       "       chest_pain_type  num_major_vessels  \\\n",
       "count       180.000000         180.000000   \n",
       "mean          3.155556           0.694444   \n",
       "std           0.938454           0.969347   \n",
       "min           1.000000           0.000000   \n",
       "25%           3.000000           0.000000   \n",
       "50%           3.000000           0.000000   \n",
       "75%           4.000000           1.000000   \n",
       "max           4.000000           3.000000   \n",
       "\n",
       "       fasting_blood_sugar_gt_120_mg_per_dl  resting_ekg_results  \\\n",
       "count                            180.000000           180.000000   \n",
       "mean                               0.161111             1.050000   \n",
       "std                                0.368659             0.998742   \n",
       "min                                0.000000             0.000000   \n",
       "25%                                0.000000             0.000000   \n",
       "50%                                0.000000             2.000000   \n",
       "75%                                0.000000             2.000000   \n",
       "max                                1.000000             2.000000   \n",
       "\n",
       "       serum_cholesterol_mg_per_dl  oldpeak_eq_st_depression         sex  \\\n",
       "count                   180.000000                180.000000  180.000000   \n",
       "mean                    249.211111                  1.010000    0.688889   \n",
       "std                      52.717969                  1.121357    0.464239   \n",
       "min                     126.000000                  0.000000    0.000000   \n",
       "25%                     213.750000                  0.000000    0.000000   \n",
       "50%                     245.500000                  0.800000    1.000000   \n",
       "75%                     281.250000                  1.600000    1.000000   \n",
       "max                     564.000000                  6.200000    1.000000   \n",
       "\n",
       "              age  max_heart_rate_achieved  exercise_induced_angina  \\\n",
       "count  180.000000               180.000000               180.000000   \n",
       "mean    54.811111               149.483333                 0.316667   \n",
       "std      9.334737                22.063513                 0.466474   \n",
       "min     29.000000                96.000000                 0.000000   \n",
       "25%     48.000000               132.000000                 0.000000   \n",
       "50%     55.000000               152.000000                 0.000000   \n",
       "75%     62.000000               166.250000                 1.000000   \n",
       "max     77.000000               202.000000                 1.000000   \n",
       "\n",
       "       heart_disease_present  \n",
       "count             180.000000  \n",
       "mean                0.444444  \n",
       "std                 0.498290  \n",
       "min                 0.000000  \n",
       "25%                 0.000000  \n",
       "50%                 0.000000  \n",
       "75%                 1.000000  \n",
       "max                 1.000000  "
      ]
     },
     "execution_count": 7,
     "metadata": {},
     "output_type": "execute_result"
    }
   ],
   "source": [
    "data.describe()"
   ]
  },
  {
   "cell_type": "markdown",
   "metadata": {},
   "source": [
    "Plot graphs to look at the data and find some insights"
   ]
  },
  {
   "cell_type": "code",
   "execution_count": 24,
   "metadata": {},
   "outputs": [
    {
     "data": {
      "image/png": "[encoded data removed]",
      "text/plain": [
       "<Figure size 472.425x360 with 1 Axes>"
      ]
     },
     "metadata": {
      "needs_background": "light"
     },
     "output_type": "display_data"
    }
   ],
   "source": [
    "sns.catplot(x=\"slope_of_peak_exercise_st_segment\", hue=\"heart_disease_present\", kind=\"count\", data=data)\n",
    "plt.xlabel('The slope of the peak exercise ST segment')\n",
    "plt.show()"
   ]
  },
  {
   "cell_type": "code",
   "execution_count": 32,
   "metadata": {},
   "outputs": [
    {
     "data": {
      "image/png": "[encoded data removed]",
      "text/plain": [
       "<Figure size 360x360 with 1 Axes>"
      ]
     },
     "metadata": {
      "needs_background": "light"
     },
     "output_type": "display_data"
    }
   ],
   "source": [
    "sns.catplot(y='resting_blood_pressure', x='heart_disease_present', kind=\"box\", data=data)\n",
    "plt.title('Resting blood pressure')\n",
    "plt.show()"
   ]
  },
  {
   "cell_type": "code",
   "execution_count": 55,
   "metadata": {},
   "outputs": [
    {
     "data": {
      "image/png": "[encoded data removed]",
      "text/plain": [
       "<Figure size 472.425x360 with 1 Axes>"
      ]
     },
     "metadata": {
      "needs_background": "light"
     },
     "output_type": "display_data"
    }
   ],
   "source": [
    "sns.catplot(x=\"chest_pain_type\", hue=\"heart_disease_present\", kind=\"count\", data=data)\n",
    "plt.xlabel('Chest pain type')\n",
    "plt.show()\n",
    "\n",
    "#Possible important feature"
   ]
  },
  {
   "cell_type": "code",
   "execution_count": 26,
   "metadata": {},
   "outputs": [
    {
     "data": {
      "image/png": "[encoded data removed]",
      "text/plain": [
       "<Figure size 472.425x360 with 1 Axes>"
      ]
     },
     "metadata": {
      "needs_background": "light"
     },
     "output_type": "display_data"
    }
   ],
   "source": [
    "sns.catplot(x=\"thal\", hue=\"heart_disease_present\", kind=\"count\", data=data)\n",
    "plt.xlabel('Results of thallium stress test measuring blood flow to the heart')\n",
    "plt.show()\n",
    "\n",
    "#Possible important feature"
   ]
  },
  {
   "cell_type": "code",
   "execution_count": 28,
   "metadata": {},
   "outputs": [
    {
     "data": {
      "image/png": "[encoded data removed]",
      "text/plain": [
       "<Figure size 472.425x360 with 1 Axes>"
      ]
     },
     "metadata": {
      "needs_background": "light"
     },
     "output_type": "display_data"
    }
   ],
   "source": [
    "sns.catplot(x=\"num_major_vessels\", hue=\"heart_disease_present\", kind=\"count\", data=data)\n",
    "plt.xlabel('Number of major vessels (0-3) colored by flourosopy')\n",
    "plt.show()"
   ]
  },
  {
   "cell_type": "code",
   "execution_count": 29,
   "metadata": {},
   "outputs": [
    {
     "data": {
      "image/png": "[encoded data removed]",
      "text/plain": [
       "<Figure size 472.425x360 with 1 Axes>"
      ]
     },
     "metadata": {
      "needs_background": "light"
     },
     "output_type": "display_data"
    }
   ],
   "source": [
    "sns.catplot(x=\"fasting_blood_sugar_gt_120_mg_per_dl\", hue=\"heart_disease_present\", kind=\"count\", data=data)\n",
    "plt.xlabel('Fasting blood sugar > 120 mg/dl')\n",
    "plt.show()"
   ]
  },
  {
   "cell_type": "code",
   "execution_count": 30,
   "metadata": {},
   "outputs": [
    {
     "data": {
      "image/png": "[encoded data removed]",
      "text/plain": [
       "<Figure size 472.425x360 with 1 Axes>"
      ]
     },
     "metadata": {
      "needs_background": "light"
     },
     "output_type": "display_data"
    }
   ],
   "source": [
    "sns.catplot(x=\"resting_ekg_results\", hue=\"heart_disease_present\", kind=\"count\", data=data)\n",
    "plt.xlabel('Resting electrocardiographic results')\n",
    "plt.show()\n",
    "\n",
    "#Possible important feature"
   ]
  },
  {
   "cell_type": "code",
   "execution_count": 31,
   "metadata": {},
   "outputs": [
    {
     "data": {
      "image/png": "[encoded data removed]",
      "text/plain": [
       "<Figure size 360x360 with 1 Axes>"
      ]
     },
     "metadata": {
      "needs_background": "light"
     },
     "output_type": "display_data"
    }
   ],
   "source": [
    "sns.catplot(y='serum_cholesterol_mg_per_dl', x='heart_disease_present', kind=\"box\", data=data)\n",
    "plt.title('Serum cholestoral in mg/dl')\n",
    "plt.show()\n",
    "\n",
    "#Possible important feature"
   ]
  },
  {
   "cell_type": "code",
   "execution_count": 33,
   "metadata": {},
   "outputs": [
    {
     "data": {
      "image/png": "[encoded data removed]",
      "text/plain": [
       "<Figure size 360x360 with 1 Axes>"
      ]
     },
     "metadata": {
      "needs_background": "light"
     },
     "output_type": "display_data"
    }
   ],
   "source": [
    "sns.catplot(y='oldpeak_eq_st_depression', x='heart_disease_present', kind=\"box\", data=data)\n",
    "plt.title('oldpeak = ST depression induced by exercise relative to rest, a measure of abnormality in electrocardiograms')\n",
    "plt.show()\n",
    "\n",
    "#Possible important feature"
   ]
  },
  {
   "cell_type": "code",
   "execution_count": 34,
   "metadata": {},
   "outputs": [
    {
     "data": {
      "image/png": "[encoded data removed]",
      "text/plain": [
       "<Figure size 472.425x360 with 1 Axes>"
      ]
     },
     "metadata": {
      "needs_background": "light"
     },
     "output_type": "display_data"
    }
   ],
   "source": [
    "sns.catplot(x=\"sex\", hue=\"heart_disease_present\", kind=\"count\", data=data)\n",
    "plt.xlabel('Sex: 0: female, 1: male')\n",
    "plt.show()\n",
    "\n",
    "#Possible important feature"
   ]
  },
  {
   "cell_type": "code",
   "execution_count": 35,
   "metadata": {},
   "outputs": [
    {
     "data": {
      "image/png": "[encoded data removed]",
      "text/plain": [
       "<Figure size 360x360 with 1 Axes>"
      ]
     },
     "metadata": {
      "needs_background": "light"
     },
     "output_type": "display_data"
    }
   ],
   "source": [
    "sns.catplot(y='age', x='heart_disease_present', kind=\"box\", data=data)\n",
    "plt.title('Age in years')\n",
    "plt.show()\n",
    "\n",
    "#Possible important feature"
   ]
  },
  {
   "cell_type": "code",
   "execution_count": 36,
   "metadata": {},
   "outputs": [
    {
     "data": {
      "image/png": "[encoded data removed]",
      "text/plain": [
       "<Figure size 360x360 with 1 Axes>"
      ]
     },
     "metadata": {
      "needs_background": "light"
     },
     "output_type": "display_data"
    }
   ],
   "source": [
    "sns.catplot(y='max_heart_rate_achieved', x='heart_disease_present', kind=\"box\", data=data)\n",
    "plt.title('Maximum heart rate achieved (beats per minute)')\n",
    "plt.show()\n",
    "\n",
    "#Possible important feature"
   ]
  },
  {
   "cell_type": "code",
   "execution_count": 37,
   "metadata": {},
   "outputs": [
    {
     "data": {
      "image/png": "[encoded data removed]",
      "text/plain": [
       "<Figure size 472.425x360 with 1 Axes>"
      ]
     },
     "metadata": {
      "needs_background": "light"
     },
     "output_type": "display_data"
    }
   ],
   "source": [
    "sns.catplot(x=\"exercise_induced_angina\", hue=\"heart_disease_present\", kind=\"count\", data=data)\n",
    "plt.xlabel('Exercise-induced chest pain (0: False, 1: True)')\n",
    "plt.show()\n",
    "\n",
    "#Possible important feature"
   ]
  },
  {
   "cell_type": "code",
   "execution_count": 8,
   "metadata": {},
   "outputs": [],
   "source": [
    "#split dataset to train and test data\n",
    "X_train, X_test, y_train, y_test = train_test_split(values, labels, random_state=100, test_size=0.2)"
   ]
  },
  {
   "cell_type": "code",
   "execution_count": 56,
   "metadata": {},
   "outputs": [
    {
     "name": "stdout",
     "output_type": "stream",
     "text": [
      "[0 0 0 0 1 0 1 0 0 1 0 1 0 1 0 1 0 1 1 0 0 1 1 0 0 0 1 0 0 1 0 1 0 1 0 0]\n",
      "[0.1, 0.0, 0.1, 0.2, 0.6, 0.2, 0.6, 0.2, 0.1, 0.6, 0.5, 0.8, 0.1, 0.7, 0.0, 0.9, 0.3, 0.7, 1.0, 0.0, 0.1, 0.9, 0.8, 0.0, 0.3, 0.1, 0.7, 0.1, 0.1, 0.8, 0.1, 0.9, 0.2, 0.6, 0.1, 0.2]\n",
      "score 3.837664032696471\n"
     ]
    }
   ],
   "source": [
    "#Train Logistic Regression model and predict label and probabilities to have heart desease (probability to have label 1)\n",
    "logreg = LogisticRegression(solver='liblinear')\n",
    "logreg.fit(X_train, y_train.values.ravel())\n",
    "prediction = logreg.predict(X_test)\n",
    "print(prediction)\n",
    "pred_prob = logreg.predict_proba(X_test)[:,1]\n",
    "pred_prob = [round(i,1) for i in pred_prob]\n",
    "print(pred_prob)\n",
    "\n",
    "#Calculate logarithmic loss evaluation metric\n",
    "print('score', log_loss(y_test, prediction))"
   ]
  },
  {
   "cell_type": "code",
   "execution_count": 52,
   "metadata": {},
   "outputs": [
    {
     "data": {
      "text/html": [
       "<div>\n",
       "<style scoped>\n",
       "    .dataframe tbody tr th:only-of-type {\n",
       "        vertical-align: middle;\n",
       "    }\n",
       "\n",
       "    .dataframe tbody tr th {\n",
       "        vertical-align: top;\n",
       "    }\n",
       "\n",
       "    .dataframe thead th {\n",
       "        text-align: right;\n",
       "    }\n",
       "</style>\n",
       "<table border=\"1\" class=\"dataframe\">\n",
       "  <thead>\n",
       "    <tr style=\"text-align: right;\">\n",
       "      <th></th>\n",
       "      <th>patient_id</th>\n",
       "      <th>slope_of_peak_exercise_st_segment</th>\n",
       "      <th>thal</th>\n",
       "      <th>resting_blood_pressure</th>\n",
       "      <th>chest_pain_type</th>\n",
       "      <th>num_major_vessels</th>\n",
       "      <th>fasting_blood_sugar_gt_120_mg_per_dl</th>\n",
       "      <th>resting_ekg_results</th>\n",
       "      <th>serum_cholesterol_mg_per_dl</th>\n",
       "      <th>oldpeak_eq_st_depression</th>\n",
       "      <th>sex</th>\n",
       "      <th>age</th>\n",
       "      <th>max_heart_rate_achieved</th>\n",
       "      <th>exercise_induced_angina</th>\n",
       "    </tr>\n",
       "  </thead>\n",
       "  <tbody>\n",
       "    <tr>\n",
       "      <th>0</th>\n",
       "      <td>olalu7</td>\n",
       "      <td>2</td>\n",
       "      <td>2</td>\n",
       "      <td>170</td>\n",
       "      <td>1</td>\n",
       "      <td>0</td>\n",
       "      <td>0</td>\n",
       "      <td>2</td>\n",
       "      <td>288</td>\n",
       "      <td>0.2</td>\n",
       "      <td>1</td>\n",
       "      <td>59</td>\n",
       "      <td>159</td>\n",
       "      <td>0</td>\n",
       "    </tr>\n",
       "    <tr>\n",
       "      <th>1</th>\n",
       "      <td>z9n6mx</td>\n",
       "      <td>1</td>\n",
       "      <td>1</td>\n",
       "      <td>138</td>\n",
       "      <td>4</td>\n",
       "      <td>0</td>\n",
       "      <td>0</td>\n",
       "      <td>0</td>\n",
       "      <td>183</td>\n",
       "      <td>1.4</td>\n",
       "      <td>0</td>\n",
       "      <td>35</td>\n",
       "      <td>182</td>\n",
       "      <td>0</td>\n",
       "    </tr>\n",
       "    <tr>\n",
       "      <th>2</th>\n",
       "      <td>5k4413</td>\n",
       "      <td>2</td>\n",
       "      <td>2</td>\n",
       "      <td>120</td>\n",
       "      <td>4</td>\n",
       "      <td>0</td>\n",
       "      <td>0</td>\n",
       "      <td>2</td>\n",
       "      <td>177</td>\n",
       "      <td>2.5</td>\n",
       "      <td>1</td>\n",
       "      <td>43</td>\n",
       "      <td>120</td>\n",
       "      <td>1</td>\n",
       "    </tr>\n",
       "    <tr>\n",
       "      <th>3</th>\n",
       "      <td>mrg7q5</td>\n",
       "      <td>1</td>\n",
       "      <td>1</td>\n",
       "      <td>102</td>\n",
       "      <td>3</td>\n",
       "      <td>1</td>\n",
       "      <td>0</td>\n",
       "      <td>0</td>\n",
       "      <td>318</td>\n",
       "      <td>0.0</td>\n",
       "      <td>0</td>\n",
       "      <td>60</td>\n",
       "      <td>160</td>\n",
       "      <td>0</td>\n",
       "    </tr>\n",
       "    <tr>\n",
       "      <th>4</th>\n",
       "      <td>uki4do</td>\n",
       "      <td>2</td>\n",
       "      <td>1</td>\n",
       "      <td>138</td>\n",
       "      <td>4</td>\n",
       "      <td>1</td>\n",
       "      <td>0</td>\n",
       "      <td>2</td>\n",
       "      <td>166</td>\n",
       "      <td>3.6</td>\n",
       "      <td>1</td>\n",
       "      <td>61</td>\n",
       "      <td>125</td>\n",
       "      <td>1</td>\n",
       "    </tr>\n",
       "  </tbody>\n",
       "</table>\n",
       "</div>"
      ],
      "text/plain": [
       "  patient_id  slope_of_peak_exercise_st_segment  thal  resting_blood_pressure  \\\n",
       "0     olalu7                                  2     2                     170   \n",
       "1     z9n6mx                                  1     1                     138   \n",
       "2     5k4413                                  2     2                     120   \n",
       "3     mrg7q5                                  1     1                     102   \n",
       "4     uki4do                                  2     1                     138   \n",
       "\n",
       "   chest_pain_type  num_major_vessels  fasting_blood_sugar_gt_120_mg_per_dl  \\\n",
       "0                1                  0                                     0   \n",
       "1                4                  0                                     0   \n",
       "2                4                  0                                     0   \n",
       "3                3                  1                                     0   \n",
       "4                4                  1                                     0   \n",
       "\n",
       "   resting_ekg_results  serum_cholesterol_mg_per_dl  oldpeak_eq_st_depression  \\\n",
       "0                    2                          288                       0.2   \n",
       "1                    0                          183                       1.4   \n",
       "2                    2                          177                       2.5   \n",
       "3                    0                          318                       0.0   \n",
       "4                    2                          166                       3.6   \n",
       "\n",
       "   sex  age  max_heart_rate_achieved  exercise_induced_angina  \n",
       "0    1   59                      159                        0  \n",
       "1    0   35                      182                        0  \n",
       "2    1   43                      120                        1  \n",
       "3    0   60                      160                        0  \n",
       "4    1   61                      125                        1  "
      ]
     },
     "execution_count": 52,
     "metadata": {},
     "output_type": "execute_result"
    }
   ],
   "source": [
    "#import test values\n",
    "test = pd.read_csv(\"test_values.csv\")\n",
    "prepare_dataset(test)\n",
    "test.head()"
   ]
  },
  {
   "cell_type": "code",
   "execution_count": 49,
   "metadata": {},
   "outputs": [
    {
     "name": "stdout",
     "output_type": "stream",
     "text": [
      "[0.3, 0.1, 1.0, 0.1, 0.9, 0.1, 0.2, 0.9, 0.1, 0.2, 0.4, 0.6, 0.3, 1.0, 0.1, 0.0, 0.0, 0.1, 0.9, 0.1, 0.9, 0.2, 0.2, 0.0, 0.4, 0.8, 0.4, 0.2, 0.5, 0.1, 0.9, 0.2, 0.2, 0.5, 0.1, 0.1, 0.2, 0.4, 0.2, 0.1, 0.9, 0.0, 0.9, 0.1, 0.9, 0.1, 0.1, 0.1, 0.2, 0.7, 0.8, 0.1, 1.0, 0.1, 0.3, 0.0, 0.9, 0.2, 0.4, 0.3, 0.1, 0.9, 0.2, 1.0, 0.1, 0.9, 0.8, 0.4, 0.6, 0.9, 0.1, 1.0, 1.0, 1.0, 1.0, 0.9, 0.9, 0.6, 0.2, 0.7, 0.4, 0.1, 0.6, 0.7, 0.2, 0.0, 0.6, 0.4, 0.4, 0.2]\n"
     ]
    }
   ],
   "source": [
    "#Predict labels for train values\n",
    "predictions = logreg.predict_proba(test.iloc[:, 1:])[:,1]\n",
    "predictions = [round(i,1) for i in predictions]\n",
    "print(predictions)"
   ]
  },
  {
   "cell_type": "code",
   "execution_count": 51,
   "metadata": {},
   "outputs": [],
   "source": [
    "#Create submission file\n",
    "Submission = pd.DataFrame({ 'patient_id': test['patient_id'].tolist(),\n",
    "                            'heart_disease_present': predictions})\n",
    "Submission.to_csv(\"Submission.csv\", index=False)"
   ]
  },
  {
   "cell_type": "code",
   "execution_count": null,
   "metadata": {},
   "outputs": [],
   "source": []
  }
 ],
 "metadata": {
  "kernelspec": {
   "display_name": "Python 3",
   "language": "python",
   "name": "python3"
  },
  "language_info": {
   "codemirror_mode": {
    "name": "ipython",
    "version": 3
   },
   "file_extension": ".py",
   "mimetype": "text/x-python",
   "name": "python",
   "nbconvert_exporter": "python",
   "pygments_lexer": "ipython3",
   "version": "3.6.6"
  }
 },
 "nbformat": 4,
 "nbformat_minor": 2
}
